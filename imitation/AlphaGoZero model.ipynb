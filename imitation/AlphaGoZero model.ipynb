{
 "cells": [
  {
   "cell_type": "code",
   "execution_count": 5,
   "metadata": {},
   "outputs": [],
   "source": [
    "import numpy as np\n",
    "from keras.models import Model\n",
    "from keras.layers import Input, Conv2D, Flatten, Dense, BatchNormalization, Activation, add\n",
    "import tensorflow as tf\n",
    "import keras.backend as K\n",
    "from sklearn.metrics import explained_variance_score, accuracy_score\n",
    "import matplotlib.pyplot as plt\n",
    "%matplotlib inline"
   ]
  },
  {
   "cell_type": "code",
   "execution_count": 6,
   "metadata": {},
   "outputs": [
    {
     "output_type": "error",
     "ename": "AttributeError",
     "evalue": "module 'tensorflow' has no attribute 'ConfigProto'",
     "traceback": [
      "\u001b[0;31m---------------------------------------------------------------------------\u001b[0m",
      "\u001b[0;31mAttributeError\u001b[0m                            Traceback (most recent call last)",
      "\u001b[0;32m<ipython-input-6-fe5c10a6d892>\u001b[0m in \u001b[0;36m<module>\u001b[0;34m\u001b[0m\n\u001b[1;32m      1\u001b[0m \u001b[0;31m# make sure TF does not allocate all memory\u001b[0m\u001b[0;34m\u001b[0m\u001b[0;34m\u001b[0m\u001b[0m\n\u001b[0;32m----> 2\u001b[0;31m \u001b[0mconfig\u001b[0m \u001b[0;34m=\u001b[0m \u001b[0mtf\u001b[0m\u001b[0;34m.\u001b[0m\u001b[0mConfigProto\u001b[0m\u001b[0;34m(\u001b[0m\u001b[0;34m)\u001b[0m\u001b[0;34m\u001b[0m\u001b[0m\n\u001b[0m\u001b[1;32m      3\u001b[0m \u001b[0mconfig\u001b[0m\u001b[0;34m.\u001b[0m\u001b[0mgpu_options\u001b[0m\u001b[0;34m.\u001b[0m\u001b[0mallow_growth\u001b[0m \u001b[0;34m=\u001b[0m \u001b[0;32mTrue\u001b[0m\u001b[0;34m\u001b[0m\u001b[0m\n\u001b[1;32m      4\u001b[0m \u001b[0mK\u001b[0m\u001b[0;34m.\u001b[0m\u001b[0mset_session\u001b[0m\u001b[0;34m(\u001b[0m\u001b[0mtf\u001b[0m\u001b[0;34m.\u001b[0m\u001b[0mSession\u001b[0m\u001b[0;34m(\u001b[0m\u001b[0mconfig\u001b[0m\u001b[0;34m=\u001b[0m\u001b[0mconfig\u001b[0m\u001b[0;34m)\u001b[0m\u001b[0;34m)\u001b[0m\u001b[0;34m\u001b[0m\u001b[0m\n",
      "\u001b[0;31mAttributeError\u001b[0m: module 'tensorflow' has no attribute 'ConfigProto'"
     ]
    }
   ],
   "source": [
    "# make sure TF does not allocate all memory\n",
    "config = tf.ConfigProto()\n",
    "config.gpu_options.allow_growth = True\n",
    "K.set_session(tf.Session(config=config))"
   ]
  },
  {
   "cell_type": "code",
   "execution_count": 3,
   "metadata": {},
   "outputs": [
    {
     "data": {
      "text/plain": [
       "((594333, 11, 11, 18), (594333,), (594333,))"
      ]
     },
     "execution_count": 3,
     "metadata": {},
     "output_type": "execute_result"
    }
   ],
   "source": [
    "data = np.load('simple_600K_disc0.99_cleaned.npz')\n",
    "x_train = data['observations']\n",
    "p_train = data['actions']\n",
    "v_train = data['rewards']\n",
    "x_train.shape, p_train.shape, v_train.shape"
   ]
  },
  {
   "cell_type": "code",
   "execution_count": 4,
   "metadata": {},
   "outputs": [
    {
     "data": {
      "text/plain": [
       "((95623, 11, 11, 18), (95623,), (95623,))"
      ]
     },
     "execution_count": 4,
     "metadata": {},
     "output_type": "execute_result"
    }
   ],
   "source": [
    "data = np.load('valid_100K_disc0.99_cleaned.npz')\n",
    "x_test = data['observations']\n",
    "p_test = data['actions']\n",
    "v_test = data['rewards']\n",
    "x_test.shape, p_test.shape, v_test.shape"
   ]
  },
  {
   "cell_type": "code",
   "execution_count": 12,
   "metadata": {},
   "outputs": [
    {
     "name": "stdout",
     "output_type": "stream",
     "text": [
      "__________________________________________________________________________________________________\n",
      "Layer (type)                    Output Shape         Param #     Connected to                     \n",
      "==================================================================================================\n",
      "input_5 (InputLayer)            (None, 11, 11, 18)   0                                            \n",
      "__________________________________________________________________________________________________\n",
      "conv2d_14 (Conv2D)              (None, 11, 11, 256)  41728       input_5[0][0]                    \n",
      "__________________________________________________________________________________________________\n",
      "batch_normalization_13 (BatchNo (None, 11, 11, 256)  1024        conv2d_14[0][0]                  \n",
      "__________________________________________________________________________________________________\n",
      "activation_11 (Activation)      (None, 11, 11, 256)  0           batch_normalization_13[0][0]     \n",
      "__________________________________________________________________________________________________\n",
      "conv2d_15 (Conv2D)              (None, 11, 11, 256)  590080      activation_11[0][0]              \n",
      "__________________________________________________________________________________________________\n",
      "batch_normalization_14 (BatchNo (None, 11, 11, 256)  1024        conv2d_15[0][0]                  \n",
      "__________________________________________________________________________________________________\n",
      "activation_12 (Activation)      (None, 11, 11, 256)  0           batch_normalization_14[0][0]     \n",
      "__________________________________________________________________________________________________\n",
      "conv2d_16 (Conv2D)              (None, 11, 11, 256)  590080      activation_12[0][0]              \n",
      "__________________________________________________________________________________________________\n",
      "batch_normalization_15 (BatchNo (None, 11, 11, 256)  1024        conv2d_16[0][0]                  \n",
      "__________________________________________________________________________________________________\n",
      "add_4 (Add)                     (None, 11, 11, 256)  0           batch_normalization_15[0][0]     \n",
      "                                                                 activation_11[0][0]              \n",
      "__________________________________________________________________________________________________\n",
      "activation_13 (Activation)      (None, 11, 11, 256)  0           add_4[0][0]                      \n",
      "__________________________________________________________________________________________________\n",
      "conv2d_17 (Conv2D)              (None, 11, 11, 256)  590080      activation_13[0][0]              \n",
      "__________________________________________________________________________________________________\n",
      "batch_normalization_16 (BatchNo (None, 11, 11, 256)  1024        conv2d_17[0][0]                  \n",
      "__________________________________________________________________________________________________\n",
      "activation_14 (Activation)      (None, 11, 11, 256)  0           batch_normalization_16[0][0]     \n",
      "__________________________________________________________________________________________________\n",
      "conv2d_18 (Conv2D)              (None, 11, 11, 256)  590080      activation_14[0][0]              \n",
      "__________________________________________________________________________________________________\n",
      "batch_normalization_17 (BatchNo (None, 11, 11, 256)  1024        conv2d_18[0][0]                  \n",
      "__________________________________________________________________________________________________\n",
      "add_5 (Add)                     (None, 11, 11, 256)  0           batch_normalization_17[0][0]     \n",
      "                                                                 activation_13[0][0]              \n",
      "__________________________________________________________________________________________________\n",
      "activation_15 (Activation)      (None, 11, 11, 256)  0           add_5[0][0]                      \n",
      "__________________________________________________________________________________________________\n",
      "conv2d_19 (Conv2D)              (None, 11, 11, 256)  590080      activation_15[0][0]              \n",
      "__________________________________________________________________________________________________\n",
      "batch_normalization_18 (BatchNo (None, 11, 11, 256)  1024        conv2d_19[0][0]                  \n",
      "__________________________________________________________________________________________________\n",
      "activation_16 (Activation)      (None, 11, 11, 256)  0           batch_normalization_18[0][0]     \n",
      "__________________________________________________________________________________________________\n",
      "conv2d_20 (Conv2D)              (None, 11, 11, 256)  590080      activation_16[0][0]              \n",
      "__________________________________________________________________________________________________\n",
      "batch_normalization_19 (BatchNo (None, 11, 11, 256)  1024        conv2d_20[0][0]                  \n",
      "__________________________________________________________________________________________________\n",
      "add_6 (Add)                     (None, 11, 11, 256)  0           batch_normalization_19[0][0]     \n",
      "                                                                 activation_15[0][0]              \n",
      "__________________________________________________________________________________________________\n",
      "activation_17 (Activation)      (None, 11, 11, 256)  0           add_6[0][0]                      \n",
      "__________________________________________________________________________________________________\n",
      "conv2d_22 (Conv2D)              (None, 11, 11, 1)    257         activation_17[0][0]              \n",
      "__________________________________________________________________________________________________\n",
      "batch_normalization_21 (BatchNo (None, 11, 11, 1)    4           conv2d_22[0][0]                  \n",
      "__________________________________________________________________________________________________\n",
      "activation_19 (Activation)      (None, 11, 11, 1)    0           batch_normalization_21[0][0]     \n",
      "__________________________________________________________________________________________________\n",
      "conv2d_21 (Conv2D)              (None, 11, 11, 256)  590080      activation_17[0][0]              \n",
      "__________________________________________________________________________________________________\n",
      "flatten_3 (Flatten)             (None, 121)          0           activation_19[0][0]              \n",
      "__________________________________________________________________________________________________\n",
      "batch_normalization_20 (BatchNo (None, 11, 11, 256)  1024        conv2d_21[0][0]                  \n",
      "__________________________________________________________________________________________________\n",
      "dense_1 (Dense)                 (None, 256)          31232       flatten_3[0][0]                  \n",
      "__________________________________________________________________________________________________\n",
      "activation_18 (Activation)      (None, 11, 11, 256)  0           batch_normalization_20[0][0]     \n",
      "__________________________________________________________________________________________________\n",
      "activation_20 (Activation)      (None, 256)          0           dense_1[0][0]                    \n",
      "__________________________________________________________________________________________________\n",
      "flatten_2 (Flatten)             (None, 30976)        0           activation_18[0][0]              \n",
      "__________________________________________________________________________________________________\n",
      "dense_2 (Dense)                 (None, 1)            257         activation_20[0][0]              \n",
      "__________________________________________________________________________________________________\n",
      "p (Dense)                       (None, 6)            185862      flatten_2[0][0]                  \n",
      "__________________________________________________________________________________________________\n",
      "v (Activation)                  (None, 1)            0           dense_2[0][0]                    \n",
      "==================================================================================================\n",
      "Total params: 4,398,092\n",
      "Trainable params: 4,393,994\n",
      "Non-trainable params: 4,098\n",
      "__________________________________________________________________________________________________\n"
     ]
    }
   ],
   "source": [
    "def ConvBlock(mod):\n",
    "    mod = Conv2D(filters=256, kernel_size=3, strides=1, padding=\"same\")(mod)\n",
    "    mod = BatchNormalization()(mod)\n",
    "    mod = Activation('relu')(mod)\n",
    "    return mod\n",
    "\n",
    "def ResidualBlock(mod):\n",
    "    tmp = mod\n",
    "    mod = ConvBlock(mod)\n",
    "    mod = Conv2D(filters=256, kernel_size=3, strides=1, padding=\"same\")(mod)\n",
    "    mod = BatchNormalization()(mod)\n",
    "    mod = add([mod,tmp])\n",
    "    mod = Activation('relu')(mod)\n",
    "    return mod\n",
    "\n",
    "def PolicyHead(mod):\n",
    "    mod = Conv2D(filters=2, kernel_size=1, strides=1, padding=\"same\")(mod)\n",
    "    mod = BatchNormalization()(mod)\n",
    "    mod = Activation('relu')(mod)\n",
    "    mod = Flatten()(mod)\n",
    "    mod = Dense(6, activation='softmax', name='p')(mod)\n",
    "    return mod\n",
    "\n",
    "def ValueHead(mod):\n",
    "    mod = Conv2D(filters=1, kernel_size=1, strides=1, padding=\"same\")(mod)\n",
    "    mod = BatchNormalization()(mod)\n",
    "    mod = Activation('relu')(mod)\n",
    "    mod = Flatten()(mod)\n",
    "    mod = Dense(256)(mod)\n",
    "    mod = Activation('relu')(mod)\n",
    "    mod = Dense(1)(mod)\n",
    "    mod = Activation('tanh',name='v')(mod)\n",
    "    return mod\n",
    "\n",
    "h = x = Input(shape=(11,11,18))\n",
    "h = ConvBlock(h)\n",
    "for i in range(3):\n",
    "    h = ResidualBlock(h)\n",
    "p = PolicyHead(h)\n",
    "v = ValueHead(h)\n",
    "model = Model(x, [p, v])\n",
    "model.summary()\n",
    "model.compile(optimizer='adam', loss=['sparse_categorical_crossentropy', 'mse'], loss_weights=[1, 10], metrics={'p': 'accuracy'})"
   ]
  },
  {
   "cell_type": "code",
   "execution_count": 13,
   "metadata": {},
   "outputs": [
    {
     "name": "stdout",
     "output_type": "stream",
     "text": [
      "Train on 594333 samples, validate on 95623 samples\n",
      "Epoch 1/10\n",
      "594333/594333 [==============================] - 1263s 2ms/step - loss: 2.6285 - p_loss: 1.3796 - v_loss: 0.1249 - p_acc: 0.4511 - val_loss: 2.7722 - val_p_loss: 0.8412 - val_v_loss: 0.1931 - val_p_acc: 0.6122\n",
      "Epoch 2/10\n",
      "594333/594333 [==============================] - 1259s 2ms/step - loss: 1.4321 - p_loss: 0.7752 - v_loss: 0.0657 - p_acc: 0.6346 - val_loss: 2.8289 - val_p_loss: 0.7384 - val_v_loss: 0.2090 - val_p_acc: 0.6484\n",
      "Epoch 3/10\n",
      "594333/594333 [==============================] - 1261s 2ms/step - loss: 1.1408 - p_loss: 0.7070 - v_loss: 0.0434 - p_acc: 0.6562 - val_loss: 2.8035 - val_p_loss: 0.7012 - val_v_loss: 0.2102 - val_p_acc: 0.6604\n",
      "Epoch 4/10\n",
      "594333/594333 [==============================] - 1263s 2ms/step - loss: 0.9821 - p_loss: 0.6719 - v_loss: 0.0310 - p_acc: 0.6694 - val_loss: 2.7501 - val_p_loss: 0.6809 - val_v_loss: 0.2069 - val_p_acc: 0.6660\n",
      "Epoch 5/10\n",
      "594333/594333 [==============================] - 1271s 2ms/step - loss: 0.8873 - p_loss: 0.6493 - v_loss: 0.0238 - p_acc: 0.6804 - val_loss: 2.8450 - val_p_loss: 0.6613 - val_v_loss: 0.2184 - val_p_acc: 0.6732\n",
      "Epoch 6/10\n",
      "594333/594333 [==============================] - 1281s 2ms/step - loss: 0.8250 - p_loss: 0.6334 - v_loss: 0.0192 - p_acc: 0.6882 - val_loss: 2.7277 - val_p_loss: 0.6603 - val_v_loss: 0.2067 - val_p_acc: 0.6741\n",
      "Epoch 7/10\n",
      "594333/594333 [==============================] - 1272s 2ms/step - loss: 0.7777 - p_loss: 0.6178 - v_loss: 0.0160 - p_acc: 0.6989 - val_loss: 2.7051 - val_p_loss: 0.6595 - val_v_loss: 0.2046 - val_p_acc: 0.6726\n",
      "Epoch 8/10\n",
      "594333/594333 [==============================] - 1259s 2ms/step - loss: 0.7405 - p_loss: 0.6021 - v_loss: 0.0138 - p_acc: 0.7090 - val_loss: 2.6416 - val_p_loss: 0.6597 - val_v_loss: 0.1982 - val_p_acc: 0.6717\n",
      "Epoch 9/10\n",
      "594333/594333 [==============================] - 1263s 2ms/step - loss: 0.7073 - p_loss: 0.5847 - v_loss: 0.0123 - p_acc: 0.7208 - val_loss: 2.6725 - val_p_loss: 0.6739 - val_v_loss: 0.1999 - val_p_acc: 0.6705\n",
      "Epoch 10/10\n",
      "594333/594333 [==============================] - 1272s 2ms/step - loss: 0.6754 - p_loss: 0.5653 - v_loss: 0.0110 - p_acc: 0.7338 - val_loss: 2.6304 - val_p_loss: 0.6822 - val_v_loss: 0.1948 - val_p_acc: 0.6683\n"
     ]
    }
   ],
   "source": [
    "history = model.fit(x_train, [p_train, v_train], batch_size=128, epochs=10, validation_data=(x_test, [p_test, v_test]))"
   ]
  },
  {
   "cell_type": "code",
   "execution_count": 14,
   "metadata": {},
   "outputs": [
    {
     "data": {
      "text/plain": [
       "Text(0.5,1,'Value MSE')"
      ]
     },
     "execution_count": 14,
     "metadata": {},
     "output_type": "execute_result"
    },
    {
     "data": {
      "image/png": "[encoded data removed]",
      "text/plain": [
       "<Figure size 1152x432 with 2 Axes>"
      ]
     },
     "metadata": {},
     "output_type": "display_data"
    }
   ],
   "source": [
    "plt.figure(figsize=(16,6))\n",
    "plt.subplot(1, 2, 1)\n",
    "plt.plot(history.history['p_acc'])\n",
    "plt.plot(history.history['val_p_acc'])\n",
    "plt.legend(['Train', 'Validation'])\n",
    "plt.title(\"Action prediction accuracy\")\n",
    "plt.subplot(1, 2, 2)\n",
    "plt.plot(history.history['v_loss'])\n",
    "plt.plot(history.history['val_v_loss'])\n",
    "plt.legend(['Train', 'Validation'])\n",
    "plt.title(\"Value MSE\")"
   ]
  },
  {
   "cell_type": "code",
   "execution_count": 15,
   "metadata": {},
   "outputs": [
    {
     "name": "stdout",
     "output_type": "stream",
     "text": [
      "Accuracy train: 0.7605870782877613\n",
      "Accuracy test: 0.6682701860431067\n",
      "Explained variance train: 0.9296615093133133\n",
      "Explained variance test: -0.278033390090739\n"
     ]
    }
   ],
   "source": [
    "p_train_pred, v_train_pred = model.predict(x_train)\n",
    "p_test_pred, v_test_pred = model.predict(x_test)\n",
    "act_train_pred = np.argmax(p_train_pred, axis=1)\n",
    "act_test_pred = np.argmax(p_test_pred, axis=1)\n",
    "print(\"Accuracy train:\", accuracy_score(p_train, act_train_pred))\n",
    "print(\"Accuracy test:\", accuracy_score(p_test, act_test_pred))\n",
    "print(\"Explained variance train:\", explained_variance_score(v_train, v_train_pred))\n",
    "print(\"Explained variance test:\", explained_variance_score(v_test, v_test_pred))"
   ]
  },
  {
   "cell_type": "code",
   "execution_count": 16,
   "metadata": {},
   "outputs": [],
   "source": [
    "model.save('AGZ.h5')"
   ]
  },
  {
   "cell_type": "code",
   "execution_count": null,
   "metadata": {},
   "outputs": [],
   "source": []
  }
 ],
 "metadata": {
  "kernelspec": {
   "name": "Python 3.6.6 64-bit ('.venv')",
   "display_name": "Python 3.6.6 64-bit ('.venv')",
   "metadata": {
    "interpreter": {
     "hash": "18ee0daf271ee8587ea6c34d4d183bf741ccbce31dcaede1a5f6373776bcfec0"
    }
   }
  },
  "language_info": {
   "codemirror_mode": {
    "name": "ipython",
    "version": 3
   },
   "file_extension": ".py",
   "mimetype": "text/x-python",
   "name": "python",
   "nbconvert_exporter": "python",
   "pygments_lexer": "ipython3",
   "version": "3.6.6-final"
  }
 },
 "nbformat": 4,
 "nbformat_minor": 2
}